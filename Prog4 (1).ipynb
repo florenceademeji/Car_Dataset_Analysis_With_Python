{
 "cells": [
  {
   "cell_type": "markdown",
   "metadata": {
    "id": "GacMba-5t1SX"
   },
   "source": [
    "# MSBA 605-77 - Python for Analytics\n",
    "## Program 4\n",
    "__Name__: ADD HERE (double click the cell in Jupyter to edit)<br>\n",
    "__Due__: Sunday, October 29 (by 11:59 PM)<br />\n",
    "__Worth__: 100 pts.<br />\n",
    "__Purpose__: Use pandas to read and analyze a data file, calculating a correlation between test questions and overall performance.\n",
    "\n",
    "Add your code to the cells below. When finished, be sure to save your notebook, then _Close and Shutdown Notebook_ from the _File_ menu. Return to Blackboard and upload your completed Notebook file (`Prog4.ipynb`)."
   ]
  },
  {
   "cell_type": "markdown",
   "metadata": {
    "id": "WjernZjFt1Sa"
   },
   "source": [
    "### Directions\n",
    "In the code cell below, write Python code to accomplish the following using a combination of pandas, NumPy, and native Python. Correlation may be applied to exam and quiz question results to determine how effective each question is at differentiating between students that did well and students that did not do well on the assessment. For background, review Blackboard's [Item Analysis article](https://help.blackboard.com/Learn/Instructor/Original/Tests_Pools_Surveys/Item_Analysis). Specifically, review the __Question statistics table on the Item Analysis page__ section for the definition of the _Discrimination_ statistic. It notes:\n",
    "\n",
    "> _Discrimination_: Indicates how well a question differentiates between students who know the subject matter and those who don't. A question is a good discriminator when students who answer the question correctly also do well on the test. Values can range from -1.0 to +1.0. A question is flagged for review if its discrimination value is less than 0.1 or negative. Discrimination values can't be calculated when the question's difficulty score is 100% or when all students receive the same score on a question.\n",
    "\n",
    "> Discrimination values are calculated with the Pearson correlation coefficient. `X` represents the scores of each student on a question and `Y` represents the scores of each student on the test.\n",
    ">\n",
    "> <img src=\"https://help.blackboard.com/sites/default/files/bb_assets_embed/15000/tests_item_analysis_pearson_formula.png\">\n",
    ">\n",
    "> These variables are the standard score, sample mean, and sample standard deviation, respectively:\n",
    ">\n",
    "> <img src=\"https://help.blackboard.com/sites/default/files/bb_assets_embed/15000/tests_item_analysis_pearson_formula_definitions.png\">\n",
    "\n",
    "Here, _n_ is the number of students.\n",
    "\n",
    "The provided file `P4-ScoreData.csv` contains results for a quiz for which you are asked to calculate the above _Discrimination_ statistic for each question. Using a combination of pandas, NumPy, and native Python complete the following steps to calculate the discrimination statistic step-by-step and then again using pandas `corrwith` method to calculate the same Pearson correlation coefficient:\n",
    "\n",
    "1. Use pandas `.read_csv` function to read the `P4-ScoreData.csv` file into a `DataFrame` as described in [Section 6.1 Reading and Writing Data in Text Format](https://wesmckinney.com/book/accessing-data#io_flat_files). Be sure that you save the data file in the same folder as your Notebook. This way, you can simply use the filename without additional path information when reading the file. You should print the `DataFrame` to ensure the file was read in correctly. Once satisfied, you may comment out the print statement.\n",
    "2. It appears that a few students left some questions unanswered when taking the quiz. These appear as `NaN` values in the `DataFrame`. Use the `.fillna` method of the `DataFrame` to fill those missing values with zeros as described in [Section 7.1's Filling In Missing Data subsection](https://wesmckinney.com/book/data-cleaning#pandas_missing_filling). Again, you should print the `DataFrame` to ensure the missing data were filled in correctly. Once satisfied, you may comment out the print statement.\n",
    "3. The student names here are simply labels for the row-level data. Use the `.set_index` method of the `DataFrame` to turn the `Name` column into the index. You may include the `inplace=True` argument to modify your `DataFrame` object instead of returning a copy. You may print the `DataFrame` once more to verify the change was made correctly. Once satisfied, you may comment out the print statement.\n",
    "4. Use the `DataFrame`'s `shape` attribute to unpack the number of students and the number of questions from the associated tuple. Print these values and ensure that you have 15 students and 10 questions.\n",
    "5. Calculate the mean score for each question using the `mean` method of the `DataFrame` and store in a variable that you can reference later when calculating the Discrimination statistic. Using the default axis of the `DataFrame` should produce a mean for each of the 10 questions. You should print the question means to ensure that they were calculated correctly. Once satisfied, you may comment out the print statement.\n",
    "6. Similarly, calculate the sample standard deviation for each question using the `std` method of the `DataFrame` and store in a variable that you can reference later when calculating the Discrimination statistic. Using the default axis of the `DataFrame` should produce a standard deviation for each of the 10 questions. You should print these values to ensure that they were calculated correctly. Once satisfied, you may comment out the print statement.\n",
    "7. Add a new column named `Total` to the `DataFrame` using the `sum` method of the `DataFrame`, specifying `axis=1`. Print the `DataFrame` after this step to ensure that each student's total score for the quiz was calculated correctly.\n",
    "8. Calculate the overall quiz mean by calling the `mean` method on the `DataFrame`'s `Total` column and store in a variable that you can reference later when calculating the Discrimination statistic. Print the quiz mean score to ensure that it was calculated correctly. Once satisfied, you may comment out the print statement.\n",
    "9. Similarly, calculate the sample standard deviation of the overall quiz scores by calling the `std` method on the `DataFrame`'s `Total` column and store in a variable that you can reference later when calculating the Discrimination statistic. Print the quiz standard deviation to ensure that it was calculated correctly. Once satisfied, you may comment out the print statement.\n",
    "10. For the next step, you will need to isolate the 10 question columns. An easy way to do this is to create an index by slicing the `columns` attribute to include only the first 10 columns.\n",
    "11. To finish the calculation of the Discrimation statistic step-by-step for each question, you will need to calculate the difference between each student's score on that question and the question's mean. This difference will then be divided by that question's standard deviation. This is the term involving the `X`'s in the equation above.\n",
    "12. In addition, you need to calculate the difference between each student's total score on the quiz and the overall quiz mean. This difference will then be divided by the sample standard deviation of the overall quiz scores. This is the term involving the `Y`'s in the equation above.\n",
    "13. Next, calculate the product of these two term variables you created in the previous two steps. You'll need use the Transposition of score differences you constructed in Step 11 above when multiplying.\n",
    "14. Finally, to complete the calculation of the Discrimation statistic for each question, you need to sum the Transposition of the product you calculated in the previous step and divide that sum by `num_students-1`. Print the resulting question Discrimination statistics.\n",
    "15. A much simpler way to calculate the Discrimination statistic is simply to use pandas `corrwith` method to calculate the Pearson correlation coefficient for all the quiz questions correlated with the `Total` column you calculated in Step 7 above. This should result in the same Discrimination statistic for each of the quiz questions but without needing Steps 8-14 above. Print this result and compare to the values you calculated step-by-step earlier. Before printing, drop the `Total` from the Series produced as your result (as it will obviously correlate perfectly with itself).\n",
    "16. Using the information your analysis yielded, answer the following in comments at the bottom of your code.<br />a. Which question appears to need review based on a negative Discrimination statistic (suggesting students who did better on the quiz overall actually did worse on this question)?<br />b. Why might this not be an appropriate interpretation given the actual student scores?\n",
    "\n",
    "To assist in verifying that your calculations are correct, I've included an Excel file named `P4-Calculations.xlsx` that mirrors these steps using Excel formulas. This should help you understand what needs to be done in the step-by-step calculations and confirm that your results match up."
   ]
  },
  {
   "cell_type": "code",
   "execution_count": 143,
   "metadata": {
    "id": "8ZZORCgut1Sb",
    "tags": []
   },
   "outputs": [],
   "source": [
    "import pandas as pd\n",
    "import numpy as np\n",
    "\n",
    "filename = 'P4-ScoreData.csv'\n",
    "# Put Code Here"
   ]
  },
  {
   "cell_type": "markdown",
   "metadata": {
    "id": "ou9LbrIlXMQ0"
   },
   "source": [
    "### Question 1"
   ]
  },
  {
   "cell_type": "code",
   "execution_count": 144,
   "metadata": {
    "colab": {
     "base_uri": "https://localhost:8080/"
    },
    "id": "pYrgmQ7EW_Ep",
    "outputId": "73e7859b-0995-4dcf-c2bc-75f550fcd911",
    "tags": []
   },
   "outputs": [
    {
     "name": "stdout",
     "output_type": "stream",
     "text": [
      "        Name    Q1    Q2    Q3    Q4  Q5   Q6   Q7    Q8    Q9   Q10\n",
      "0     Sophia   9.0   5.0   8.0   8.5  10  8.0  8.0   9.0  10.0   9.0\n",
      "1   Muhammad   8.0   NaN   7.0   9.0  10  7.0  7.0   9.5   9.0   7.5\n",
      "2     Olivia   9.5   5.0   7.5   9.0  10  9.0  8.5   9.5  10.0   9.0\n",
      "3      Aiden   7.0   0.0   5.0   7.5  10  6.0  6.0   8.0  10.0   7.0\n",
      "4        Mia   8.0   5.0   6.5   8.5  10  7.5  7.0   9.0   9.5   8.0\n",
      "5       Liam  10.0   0.0  10.0   9.0  10  9.0  9.0   9.5  10.0   9.0\n",
      "6   Isabella   9.5   5.0   7.0  10.0  10  8.0  8.5  10.0  10.0   9.5\n",
      "7     Elijah   7.5  10.0   6.5   8.5  10  7.0  6.5   9.0  10.0   7.0\n",
      "8        Ava   9.0  10.0   7.0  10.0   9  8.0  8.0  10.0  10.0   8.0\n",
      "9      Mateo   8.0  10.0   6.5   9.0  10  7.5  7.0   9.5   9.0   8.0\n",
      "10       Zoe   7.0   5.0   8.0   9.0  10  8.0  8.0   9.5  10.0   7.5\n",
      "11   Jackson   9.5  10.0   7.5   8.5  10  8.0  8.5   9.0  10.0   9.0\n",
      "12   Aaliyah  10.0   5.0   9.0  10.0  10  9.0  9.0  10.0  10.0  10.0\n",
      "13      Noah   7.5  10.0   5.0   7.5  10  6.5  NaN   8.0  10.0   7.0\n",
      "14     Priya   8.0   5.0   7.0   9.0  10  7.5  7.0   9.5   9.0   7.5\n"
     ]
    }
   ],
   "source": [
    "filename = 'P4-ScoreData.csv'\n",
    "df = pd.read_csv(filename)\n",
    "print(df)"
   ]
  },
  {
   "cell_type": "markdown",
   "metadata": {
    "id": "EY2inAR9XUI1"
   },
   "source": [
    "### Question 2"
   ]
  },
  {
   "cell_type": "code",
   "execution_count": 145,
   "metadata": {
    "colab": {
     "base_uri": "https://localhost:8080/"
    },
    "id": "aVzx9R7EXcmO",
    "outputId": "9c4ef913-48a2-4fc6-f14b-1ae560448fab",
    "tags": []
   },
   "outputs": [
    {
     "name": "stdout",
     "output_type": "stream",
     "text": [
      "        Name    Q1    Q2    Q3    Q4  Q5   Q6   Q7    Q8    Q9   Q10\n",
      "0     Sophia   9.0   5.0   8.0   8.5  10  8.0  8.0   9.0  10.0   9.0\n",
      "1   Muhammad   8.0   0.0   7.0   9.0  10  7.0  7.0   9.5   9.0   7.5\n",
      "2     Olivia   9.5   5.0   7.5   9.0  10  9.0  8.5   9.5  10.0   9.0\n",
      "3      Aiden   7.0   0.0   5.0   7.5  10  6.0  6.0   8.0  10.0   7.0\n",
      "4        Mia   8.0   5.0   6.5   8.5  10  7.5  7.0   9.0   9.5   8.0\n",
      "5       Liam  10.0   0.0  10.0   9.0  10  9.0  9.0   9.5  10.0   9.0\n",
      "6   Isabella   9.5   5.0   7.0  10.0  10  8.0  8.5  10.0  10.0   9.5\n",
      "7     Elijah   7.5  10.0   6.5   8.5  10  7.0  6.5   9.0  10.0   7.0\n",
      "8        Ava   9.0  10.0   7.0  10.0   9  8.0  8.0  10.0  10.0   8.0\n",
      "9      Mateo   8.0  10.0   6.5   9.0  10  7.5  7.0   9.5   9.0   8.0\n",
      "10       Zoe   7.0   5.0   8.0   9.0  10  8.0  8.0   9.5  10.0   7.5\n",
      "11   Jackson   9.5  10.0   7.5   8.5  10  8.0  8.5   9.0  10.0   9.0\n",
      "12   Aaliyah  10.0   5.0   9.0  10.0  10  9.0  9.0  10.0  10.0  10.0\n",
      "13      Noah   7.5  10.0   5.0   7.5  10  6.5  0.0   8.0  10.0   7.0\n",
      "14     Priya   8.0   5.0   7.0   9.0  10  7.5  7.0   9.5   9.0   7.5\n"
     ]
    }
   ],
   "source": [
    "df.fillna(0, inplace=True)\n",
    "print(df)"
   ]
  },
  {
   "cell_type": "markdown",
   "metadata": {
    "id": "dnRiQtlpYSm6"
   },
   "source": [
    "### Question 3"
   ]
  },
  {
   "cell_type": "code",
   "execution_count": 146,
   "metadata": {
    "colab": {
     "base_uri": "https://localhost:8080/"
    },
    "id": "1OQRe_e0YVqf",
    "outputId": "c46e43b1-8cd9-4a4e-876c-759d58f41f31",
    "tags": []
   },
   "outputs": [
    {
     "name": "stdout",
     "output_type": "stream",
     "text": [
      "            Q1    Q2    Q3    Q4  Q5   Q6   Q7    Q8    Q9   Q10\n",
      "Name                                                            \n",
      "Sophia     9.0   5.0   8.0   8.5  10  8.0  8.0   9.0  10.0   9.0\n",
      "Muhammad   8.0   0.0   7.0   9.0  10  7.0  7.0   9.5   9.0   7.5\n",
      "Olivia     9.5   5.0   7.5   9.0  10  9.0  8.5   9.5  10.0   9.0\n",
      "Aiden      7.0   0.0   5.0   7.5  10  6.0  6.0   8.0  10.0   7.0\n",
      "Mia        8.0   5.0   6.5   8.5  10  7.5  7.0   9.0   9.5   8.0\n",
      "Liam      10.0   0.0  10.0   9.0  10  9.0  9.0   9.5  10.0   9.0\n",
      "Isabella   9.5   5.0   7.0  10.0  10  8.0  8.5  10.0  10.0   9.5\n",
      "Elijah     7.5  10.0   6.5   8.5  10  7.0  6.5   9.0  10.0   7.0\n",
      "Ava        9.0  10.0   7.0  10.0   9  8.0  8.0  10.0  10.0   8.0\n",
      "Mateo      8.0  10.0   6.5   9.0  10  7.5  7.0   9.5   9.0   8.0\n",
      "Zoe        7.0   5.0   8.0   9.0  10  8.0  8.0   9.5  10.0   7.5\n",
      "Jackson    9.5  10.0   7.5   8.5  10  8.0  8.5   9.0  10.0   9.0\n",
      "Aaliyah   10.0   5.0   9.0  10.0  10  9.0  9.0  10.0  10.0  10.0\n",
      "Noah       7.5  10.0   5.0   7.5  10  6.5  0.0   8.0  10.0   7.0\n",
      "Priya      8.0   5.0   7.0   9.0  10  7.5  7.0   9.5   9.0   7.5\n"
     ]
    }
   ],
   "source": [
    "df.set_index('Name', inplace=True)\n",
    "print(df)"
   ]
  },
  {
   "cell_type": "markdown",
   "metadata": {
    "id": "6TEXOIe8Y0-g"
   },
   "source": [
    "### Question 4"
   ]
  },
  {
   "cell_type": "code",
   "execution_count": 147,
   "metadata": {
    "colab": {
     "base_uri": "https://localhost:8080/"
    },
    "id": "gEyREdHRZus1",
    "outputId": "e904eb8d-64dc-4dcf-f09c-d7fae6f9a202",
    "tags": []
   },
   "outputs": [
    {
     "name": "stdout",
     "output_type": "stream",
     "text": [
      "(15, 10)\n",
      "There are 15 students and 10 questions\n"
     ]
    }
   ],
   "source": [
    "print(df.shape)\n",
    "print(f\"There are {df.shape[0]} students and {df.shape[1]} questions\")"
   ]
  },
  {
   "cell_type": "markdown",
   "metadata": {
    "id": "J-KROEPKZ2pU"
   },
   "source": [
    "### Question 5"
   ]
  },
  {
   "cell_type": "code",
   "execution_count": 148,
   "metadata": {
    "colab": {
     "base_uri": "https://localhost:8080/"
    },
    "id": "PoPld_aJZ6ox",
    "outputId": "a3da072d-280d-480c-ab0f-6e08adb53bdb",
    "tags": []
   },
   "outputs": [
    {
     "name": "stdout",
     "output_type": "stream",
     "text": [
      "Q1     8.500000\n",
      "Q2     5.666667\n",
      "Q3     7.166667\n",
      "Q4     8.866667\n",
      "Q5     9.933333\n",
      "Q6     7.733333\n",
      "Q7     7.200000\n",
      "Q8     9.266667\n",
      "Q9     9.766667\n",
      "Q10    8.200000\n",
      "dtype: float64\n"
     ]
    }
   ],
   "source": [
    "colmeans = df.mean()\n",
    "print(colmeans)"
   ]
  },
  {
   "cell_type": "markdown",
   "metadata": {
    "id": "293za-5nazSV"
   },
   "source": [
    "### Question 6"
   ]
  },
  {
   "cell_type": "code",
   "execution_count": 149,
   "metadata": {
    "colab": {
     "base_uri": "https://localhost:8080/"
    },
    "id": "SD-5gRoCa2Iq",
    "outputId": "dafac63a-77d0-4036-d00e-e902b5217828",
    "tags": []
   },
   "outputs": [
    {
     "name": "stdout",
     "output_type": "stream",
     "text": [
      "Q1     1.052209\n",
      "Q2     3.716117\n",
      "Q3     1.304753\n",
      "Q4     0.766874\n",
      "Q5     0.258199\n",
      "Q6     0.883715\n",
      "Q7     2.194148\n",
      "Q8     0.622973\n",
      "Q9     0.416905\n",
      "Q10    0.978337\n",
      "dtype: float64\n"
     ]
    }
   ],
   "source": [
    "std_dev = df.std()\n",
    "print(std_dev)"
   ]
  },
  {
   "cell_type": "markdown",
   "metadata": {
    "id": "J4zx0w_ubHTc"
   },
   "source": [
    "### Question 7"
   ]
  },
  {
   "cell_type": "code",
   "execution_count": 150,
   "metadata": {
    "colab": {
     "base_uri": "https://localhost:8080/"
    },
    "id": "maJyrU4GbKV3",
    "outputId": "eb041f2b-a369-4016-d7fe-679125316223",
    "tags": []
   },
   "outputs": [
    {
     "name": "stdout",
     "output_type": "stream",
     "text": [
      "            Q1    Q2    Q3    Q4  Q5   Q6   Q7    Q8    Q9   Q10  Total\n",
      "Name                                                                   \n",
      "Sophia     9.0   5.0   8.0   8.5  10  8.0  8.0   9.0  10.0   9.0   84.5\n",
      "Muhammad   8.0   0.0   7.0   9.0  10  7.0  7.0   9.5   9.0   7.5   74.0\n",
      "Olivia     9.5   5.0   7.5   9.0  10  9.0  8.5   9.5  10.0   9.0   87.0\n",
      "Aiden      7.0   0.0   5.0   7.5  10  6.0  6.0   8.0  10.0   7.0   66.5\n",
      "Mia        8.0   5.0   6.5   8.5  10  7.5  7.0   9.0   9.5   8.0   79.0\n",
      "Liam      10.0   0.0  10.0   9.0  10  9.0  9.0   9.5  10.0   9.0   85.5\n",
      "Isabella   9.5   5.0   7.0  10.0  10  8.0  8.5  10.0  10.0   9.5   87.5\n",
      "Elijah     7.5  10.0   6.5   8.5  10  7.0  6.5   9.0  10.0   7.0   82.0\n",
      "Ava        9.0  10.0   7.0  10.0   9  8.0  8.0  10.0  10.0   8.0   89.0\n",
      "Mateo      8.0  10.0   6.5   9.0  10  7.5  7.0   9.5   9.0   8.0   84.5\n",
      "Zoe        7.0   5.0   8.0   9.0  10  8.0  8.0   9.5  10.0   7.5   82.0\n",
      "Jackson    9.5  10.0   7.5   8.5  10  8.0  8.5   9.0  10.0   9.0   90.0\n",
      "Aaliyah   10.0   5.0   9.0  10.0  10  9.0  9.0  10.0  10.0  10.0   92.0\n",
      "Noah       7.5  10.0   5.0   7.5  10  6.5  0.0   8.0  10.0   7.0   71.5\n",
      "Priya      8.0   5.0   7.0   9.0  10  7.5  7.0   9.5   9.0   7.5   79.5\n"
     ]
    }
   ],
   "source": [
    "df['Total'] = df.sum(axis=1)\n",
    "print(df)"
   ]
  },
  {
   "cell_type": "markdown",
   "metadata": {
    "id": "eS1jA14NcjFI"
   },
   "source": [
    "### Question 8"
   ]
  },
  {
   "cell_type": "code",
   "execution_count": 151,
   "metadata": {
    "colab": {
     "base_uri": "https://localhost:8080/"
    },
    "id": "V9Zicc32cyHn",
    "outputId": "44a46dde-8b94-4a4b-bdad-36888b67f8db",
    "tags": []
   },
   "outputs": [
    {
     "name": "stdout",
     "output_type": "stream",
     "text": [
      "82.3\n"
     ]
    }
   ],
   "source": [
    "overall_mean = df['Total'].mean()\n",
    "print(overall_mean)"
   ]
  },
  {
   "cell_type": "markdown",
   "metadata": {
    "id": "a_coXEF8c8Mj"
   },
   "source": [
    "### Question 9"
   ]
  },
  {
   "cell_type": "code",
   "execution_count": 152,
   "metadata": {
    "colab": {
     "base_uri": "https://localhost:8080/"
    },
    "id": "KJHbdhqXc_6x",
    "outputId": "d29d4d0e-6b03-47e3-b84c-520c9cf70c20",
    "tags": []
   },
   "outputs": [
    {
     "name": "stdout",
     "output_type": "stream",
     "text": [
      "7.178340436937456\n"
     ]
    }
   ],
   "source": [
    "overall_std = df['Total'].std()\n",
    "print(overall_std)"
   ]
  },
  {
   "cell_type": "markdown",
   "metadata": {
    "id": "-5BI9jlVeRSp"
   },
   "source": [
    "### Question 10"
   ]
  },
  {
   "cell_type": "code",
   "execution_count": 153,
   "metadata": {
    "id": "AeXaZtLueVu9",
    "tags": []
   },
   "outputs": [],
   "source": [
    "questions_df = df.iloc[:, :10]"
   ]
  },
  {
   "cell_type": "markdown",
   "metadata": {
    "id": "2tBnMirykQyf"
   },
   "source": [
    "### Question 11"
   ]
  },
  {
   "cell_type": "code",
   "execution_count": 154,
   "metadata": {
    "id": "wloDjMbvkTjU",
    "tags": []
   },
   "outputs": [],
   "source": [
    "X = (questions_df - colmeans) / std_dev"
   ]
  },
  {
   "cell_type": "markdown",
   "metadata": {
    "id": "EM152VK-1Y7s"
   },
   "source": [
    "### Question 12"
   ]
  },
  {
   "cell_type": "code",
   "execution_count": 155,
   "metadata": {
    "id": "_6Jr1Dib1b9H",
    "tags": []
   },
   "outputs": [],
   "source": [
    "Y = (df['Total'] - overall_mean) / overall_std"
   ]
  },
  {
   "cell_type": "markdown",
   "metadata": {
    "id": "6wsuApaZ1rZJ"
   },
   "source": [
    "### Question 13"
   ]
  },
  {
   "cell_type": "code",
   "execution_count": 156,
   "metadata": {
    "id": "D0fLrf0G1uAu",
    "tags": []
   },
   "outputs": [],
   "source": [
    "product = X.multiply(Y, axis=0)"
   ]
  },
  {
   "cell_type": "markdown",
   "metadata": {
    "id": "6h_Tx21p2qqg"
   },
   "source": [
    "### Question 14"
   ]
  },
  {
   "cell_type": "code",
   "execution_count": 157,
   "metadata": {
    "colab": {
     "base_uri": "https://localhost:8080/"
    },
    "id": "nwoohCD_17VV",
    "outputId": "cdf6e5ed-36c4-43e4-cc70-653fc0d929f1",
    "tags": []
   },
   "outputs": [
    {
     "name": "stdout",
     "output_type": "stream",
     "text": [
      "\n",
      "Discrimination statistics (step-by-step calculation):\n",
      "Q1     0.782554\n",
      "Q2     0.353454\n",
      "Q3     0.694002\n",
      "Q4     0.757120\n",
      "Q5    -0.258207\n",
      "Q6     0.855192\n",
      "Q7     0.690915\n",
      "Q8     0.759503\n",
      "Q9     0.251805\n",
      "Q10    0.789262\n",
      "dtype: float64\n"
     ]
    }
   ],
   "source": [
    "discrimination_statistic = product.sum() / (df.shape[0] - 1)\n",
    "print(\"\\nDiscrimination statistics (step-by-step calculation):\")\n",
    "print(discrimination_statistic)"
   ]
  },
  {
   "cell_type": "markdown",
   "metadata": {
    "id": "bsseytbo5L1t"
   },
   "source": [
    "### Question 15"
   ]
  },
  {
   "cell_type": "code",
   "execution_count": 158,
   "metadata": {
    "colab": {
     "base_uri": "https://localhost:8080/"
    },
    "id": "JpgeD7195VfO",
    "outputId": "7cb5ed69-fe9f-478b-d323-6c542800f102",
    "tags": []
   },
   "outputs": [
    {
     "name": "stdout",
     "output_type": "stream",
     "text": [
      "\n",
      "Discrimination statistics (using pandas corrwith method):\n",
      "Q1     0.782554\n",
      "Q2     0.353454\n",
      "Q3     0.694002\n",
      "Q4     0.757120\n",
      "Q5    -0.258207\n",
      "Q6     0.855192\n",
      "Q7     0.690915\n",
      "Q8     0.759503\n",
      "Q9     0.251805\n",
      "Q10    0.789262\n",
      "dtype: float64\n"
     ]
    }
   ],
   "source": [
    "discrimination_corrwith = questions_df.corrwith(df['Total'])\n",
    "print(\"\\nDiscrimination statistics (using pandas corrwith method):\")\n",
    "print(discrimination_corrwith)"
   ]
  },
  {
   "cell_type": "markdown",
   "metadata": {
    "id": "1mZoGN2950-_"
   },
   "source": [
    "### Question 16"
   ]
  },
  {
   "cell_type": "markdown",
   "metadata": {
    "id": "9bz1729e0JDf"
   },
   "source": [
    "#### a. Which question appears to need review based on a negative Discrimination statistic?\n",
    "Question 5 has negative discrimination statistic"
   ]
  },
  {
   "cell_type": "markdown",
   "metadata": {
    "id": "ZHCMj71j0lZb"
   },
   "source": [
    "#### b. Why might this not be an appropriate interpretation given the actual student scores?\n",
    "This interpretation might not be appropriate if the sample size is too small, if there were issues with how the quiz was administered, or if there is not enough variance in the students' scores. Additionally, a negative Discrimination statistic might result from a question that was misleading or confusing to students who otherwise performed well, rather than indicating a problem with the question's ability to differentiate between high- and low-performing students.\n"
   ]
  },
  {
   "cell_type": "markdown",
   "metadata": {
    "id": "bexgWeCMt1Sn"
   },
   "source": [
    "Be sure to save and exit your Jupyter Notebook and Shutdown Jupyter Lab (from the __File__ menu) before you submit your notebook on Blackboard for grading."
   ]
  }
 ],
 "metadata": {
  "colab": {
   "provenance": []
  },
  "kernelspec": {
   "display_name": "Python 3 (ipykernel)",
   "language": "python",
   "name": "python3"
  },
  "language_info": {
   "codemirror_mode": {
    "name": "ipython",
    "version": 3
   },
   "file_extension": ".py",
   "mimetype": "text/x-python",
   "name": "python",
   "nbconvert_exporter": "python",
   "pygments_lexer": "ipython3",
   "version": "3.11.5"
  }
 },
 "nbformat": 4,
 "nbformat_minor": 4
}
